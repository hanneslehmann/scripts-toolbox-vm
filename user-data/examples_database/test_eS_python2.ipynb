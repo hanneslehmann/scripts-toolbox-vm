{
 "cells": [
  {
   "cell_type": "markdown",
   "metadata": {},
   "source": [
    "## Sample Python / ElasticSearch integration\n",
    "from http://blog.qbox.io/building-an-elasticsearch-index-with-python"
   ]
  },
  {
   "cell_type": "markdown",
   "metadata": {},
   "source": [
    "Basic variables/settings"
   ]
  },
  {
   "cell_type": "code",
   "execution_count": 1,
   "metadata": {
    "collapsed": true
   },
   "outputs": [],
   "source": [
    "FILE_URL = \"http://apps.sloanahrens.com/qbox-blog-resources/kaggle-titanic-data/test.csv\"\n",
    "\n",
    "ES_HOST = {\"host\" : \"localhost\", \"port\" : 9200}\n",
    "\n",
    "INDEX_NAME = 'titanic'\n",
    "TYPE_NAME = 'passenger'\n",
    "\n",
    "ID_FIELD = 'passengerid'"
   ]
  },
  {
   "cell_type": "markdown",
   "metadata": {},
   "source": [
    "Load the data"
   ]
  },
  {
   "cell_type": "code",
   "execution_count": 2,
   "metadata": {
    "collapsed": true
   },
   "outputs": [],
   "source": [
    "import csv\n",
    "import urllib2\n",
    "\n",
    "response = urllib2.urlopen(FILE_URL)\n",
    "csv_file_object = csv.reader(response)\n",
    " \n",
    "header = csv_file_object.next()\n",
    "header = [item.lower() for item in header]"
   ]
  },
  {
   "cell_type": "markdown",
   "metadata": {},
   "source": [
    "Build dirctionary"
   ]
  },
  {
   "cell_type": "code",
   "execution_count": 3,
   "metadata": {
    "collapsed": true
   },
   "outputs": [],
   "source": [
    "bulk_data = [] \n",
    "\n",
    "for row in csv_file_object:\n",
    "    data_dict = {}\n",
    "    for i in range(len(row)):\n",
    "        data_dict[header[i]] = row[i]\n",
    "    op_dict = {\n",
    "        \"index\": {\n",
    "        \t\"_index\": INDEX_NAME, \n",
    "        \t\"_type\": TYPE_NAME, \n",
    "        \t\"_id\": data_dict[ID_FIELD]\n",
    "        }\n",
    "    }\n",
    "    bulk_data.append(op_dict)\n",
    "    bulk_data.append(data_dict)"
   ]
  },
  {
   "cell_type": "markdown",
   "metadata": {},
   "source": [
    "create index using the Python ES client"
   ]
  },
  {
   "cell_type": "code",
   "execution_count": 4,
   "metadata": {
    "collapsed": false
   },
   "outputs": [
    {
     "name": "stderr",
     "output_type": "stream",
     "text": [
      "WARNING:elasticsearch:HEAD /titanic [status:404 request:0.006s]\n"
     ]
    },
    {
     "name": "stdout",
     "output_type": "stream",
     "text": [
      "creating 'titanic' index...\n",
      " response: '{u'acknowledged': True}'\n"
     ]
    }
   ],
   "source": [
    "from elasticsearch import Elasticsearch\n",
    "\n",
    "# create ES client, create index\n",
    "es = Elasticsearch(hosts = [ES_HOST])\n",
    "\n",
    "if es.indices.exists(INDEX_NAME):\n",
    "    print(\"deleting '%s' index...\" % (INDEX_NAME))\n",
    "    res = es.indices.delete(index = INDEX_NAME)\n",
    "    print(\" response: '%s'\" % (res))\n",
    "\n",
    "# since we are running locally, use one shard and no replicas\n",
    "request_body = {\n",
    "    \"settings\" : {\n",
    "        \"number_of_shards\": 1,\n",
    "        \"number_of_replicas\": 0\n",
    "    }\n",
    "}\n",
    "\n",
    "print(\"creating '%s' index...\" % (INDEX_NAME))\n",
    "res = es.indices.create(index = INDEX_NAME, body = request_body)\n",
    "print(\" response: '%s'\" % (res))"
   ]
  },
  {
   "cell_type": "markdown",
   "metadata": {},
   "source": [
    "perform a bulk index on the data"
   ]
  },
  {
   "cell_type": "code",
   "execution_count": 5,
   "metadata": {
    "collapsed": false
   },
   "outputs": [
    {
     "name": "stdout",
     "output_type": "stream",
     "text": [
      "bulk indexing...\n"
     ]
    }
   ],
   "source": [
    "# bulk index the data\n",
    "print(\"bulk indexing...\")\n",
    "res = es.bulk(index = INDEX_NAME, body = bulk_data, refresh = True)"
   ]
  },
  {
   "cell_type": "markdown",
   "metadata": {},
   "source": [
    "run a simple match_all query to ensure that everything is in order"
   ]
  },
  {
   "cell_type": "code",
   "execution_count": 6,
   "metadata": {
    "collapsed": false
   },
   "outputs": [
    {
     "name": "stdout",
     "output_type": "stream",
     "text": [
      " response: '{u'hits': {u'hits': [{u'_score': 1.0, u'_type': u'passenger', u'_id': u'892', u'_source': {u'fare': u'7.8292', u'name': u'Kelly, Mr. James', u'embarked': u'Q', u'age': u'34.5', u'parch': u'0', u'pclass': u'3', u'sex': u'male', u'sibsp': u'0', u'passengerid': u'892', u'ticket': u'330911', u'cabin': u''}, u'_index': u'titanic'}, {u'_score': 1.0, u'_type': u'passenger', u'_id': u'893', u'_source': {u'fare': u'7', u'name': u'Wilkes, Mrs. James (Ellen Needs)', u'embarked': u'S', u'age': u'47', u'parch': u'0', u'pclass': u'3', u'sex': u'female', u'sibsp': u'1', u'passengerid': u'893', u'ticket': u'363272', u'cabin': u''}, u'_index': u'titanic'}], u'total': 418, u'max_score': 1.0}, u'_shards': {u'successful': 1, u'failed': 0, u'total': 1}, u'took': 6, u'timed_out': False}'\n"
     ]
    }
   ],
   "source": [
    "# sanity check\n",
    "res = es.search(index = INDEX_NAME, size=2, body={\"query\": {\"match_all\": {}}})\n",
    "print(\" response: '%s'\" % (res))"
   ]
  },
  {
   "cell_type": "markdown",
   "metadata": {},
   "source": [
    "More structured"
   ]
  },
  {
   "cell_type": "code",
   "execution_count": 7,
   "metadata": {
    "collapsed": false
   },
   "outputs": [
    {
     "name": "stdout",
     "output_type": "stream",
     "text": [
      "results:\n",
      "{u'fare': u'7.8292', u'name': u'Kelly, Mr. James', u'embarked': u'Q', u'age': u'34.5', u'parch': u'0', u'pclass': u'3', u'sex': u'male', u'sibsp': u'0', u'passengerid': u'892', u'ticket': u'330911', u'cabin': u''}\n",
      "{u'fare': u'7', u'name': u'Wilkes, Mrs. James (Ellen Needs)', u'embarked': u'S', u'age': u'47', u'parch': u'0', u'pclass': u'3', u'sex': u'female', u'sibsp': u'1', u'passengerid': u'893', u'ticket': u'363272', u'cabin': u''}\n"
     ]
    }
   ],
   "source": [
    "print(\"results:\")\n",
    "for hit in res['hits']['hits']:\n",
    "    print(hit[\"_source\"])"
   ]
  },
  {
   "cell_type": "code",
   "execution_count": null,
   "metadata": {
    "collapsed": true
   },
   "outputs": [],
   "source": []
  }
 ],
 "metadata": {
  "kernelspec": {
   "display_name": "Python 2",
   "language": "python",
   "name": "python2"
  },
  "language_info": {
   "codemirror_mode": {
    "name": "ipython",
    "version": 2
   },
   "file_extension": ".py",
   "mimetype": "text/x-python",
   "name": "python",
   "nbconvert_exporter": "python",
   "pygments_lexer": "ipython2",
   "version": "2.7.6"
  }
 },
 "nbformat": 4,
 "nbformat_minor": 0
}
