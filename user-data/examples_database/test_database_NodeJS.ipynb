{
 "cells": [
  {
   "cell_type": "markdown",
   "metadata": {},
   "source": [
    "#MySQL"
   ]
  },
  {
   "cell_type": "code",
   "execution_count": 9,
   "metadata": {
    "collapsed": false
   },
   "outputs": [],
   "source": [
    "var mysql      = require('mysql');\n",
    "var connection = mysql.createConnection({\n",
    "  host     : 'localhost',\n",
    "  user     : 'tester',\n",
    "  password : 'test',\n",
    "});"
   ]
  },
  {
   "cell_type": "code",
   "execution_count": 10,
   "metadata": {
    "collapsed": false
   },
   "outputs": [
    {
     "name": "stdout",
     "output_type": "stream",
     "text": [
      "connected as id 82\n"
     ]
    }
   ],
   "source": [
    "connection.connect(function(err) {\n",
    "    // connected! (unless `err` is set)\n",
    "    if (err) throw err;\n",
    "    console.log('connected as id ' + connection.threadId);\n",
    "});"
   ]
  },
  {
   "cell_type": "markdown",
   "metadata": {},
   "source": [
    "Let's insert some data"
   ]
  },
  {
   "cell_type": "code",
   "execution_count": 16,
   "metadata": {
    "collapsed": false
   },
   "outputs": [
    {
     "name": "stdout",
     "output_type": "stream",
     "text": [
      "INSERT INTO `test_db`.`writer` SET `first_name` = 'Wolfgang', `last_name` = 'Goethe', `year_of_death` = '1616-01-01 00:00'\n",
      "0\n"
     ]
    }
   ],
   "source": [
    "var post  ={first_name:'Wolfgang', last_name:'Goethe', year_of_death:'1832-01-01 00:00'}\n",
    "var query = connection.query('INSERT INTO `test_db`.`writer` SET ?', post, function(err, result) {\n",
    "    if (err) throw err;\n",
    "    \n",
    "    console.log(result.insertId);\n",
    "});\n",
    "console.log(query.sql)"
   ]
  },
  {
   "cell_type": "markdown",
   "metadata": {},
   "source": [
    "Let's query for some data, prepared statement"
   ]
  },
  {
   "cell_type": "code",
   "execution_count": 25,
   "metadata": {
    "collapsed": false
   },
   "outputs": [
    {
     "data": {
      "text/plain": [
       "\"SELECT * FROM `test_db`.`writer` WHERE `year_of_death` > '1500'\""
      ]
     },
     "execution_count": 25,
     "metadata": {},
     "output_type": "execute_result"
    },
    {
     "name": "stdout",
     "output_type": "stream",
     "text": [
      "Writer:  Bertold Brecht Year of Death:  [Date] \"1956-01-01T00:00:00.000Z\"\n",
      "Writer:  William Shakespeare Year of Death:  [Date] \"1616-01-01T00:00:00.000Z\"\n",
      "Writer:  Wolfgang Goethe Year of Death:  [Date] \"1616-01-01T00:00:00.000Z\"\n"
     ]
    }
   ],
   "source": [
    "var sql = \"SELECT * FROM ?? WHERE ?? > ?\";\n",
    "var inserts = ['test_db.writer', 'year_of_death', '1500'];\n",
    "sql = mysql.format(sql, inserts);\n",
    "\n",
    "var query = connection.query(sql, function(err, results) {\n",
    "    if (err) throw err;\n",
    "    for (var i = 0; i < results.length; i++) {\n",
    "        console.log('Writer: ', results[i].first_name , results[i].last_name, \"Year of Death: \", results[i].year_of_death);\n",
    "    }\n",
    "});"
   ]
  },
  {
   "cell_type": "code",
   "execution_count": null,
   "metadata": {
    "collapsed": true
   },
   "outputs": [],
   "source": []
  }
 ],
 "metadata": {
  "kernelspec": {
   "display_name": "NodeJS",
   "language": "javascript",
   "name": "nodejs"
  },
  "language_info": {
   "codemirror_mode": "javascript",
   "file_extension": "js",
   "mimetype": "text/javascript",
   "name": "nodejs",
   "pygments_lexer": "javascript",
   "version": "0.10"
  }
 },
 "nbformat": 4,
 "nbformat_minor": 0
}
