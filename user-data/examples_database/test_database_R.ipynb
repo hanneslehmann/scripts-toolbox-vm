{
 "cells": [
  {
   "cell_type": "markdown",
   "metadata": {},
   "source": [
    "# MySQL"
   ]
  },
  {
   "cell_type": "code",
   "execution_count": 2,
   "metadata": {
    "collapsed": false
   },
   "outputs": [],
   "source": [
    "library(RMySQL)"
   ]
  },
  {
   "cell_type": "code",
   "execution_count": 4,
   "metadata": {
    "collapsed": false
   },
   "outputs": [],
   "source": [
    "mydb = dbConnect(MySQL(), user='tester', password='test', dbname='test_db', host='localhost')"
   ]
  },
  {
   "cell_type": "code",
   "execution_count": 6,
   "metadata": {
    "collapsed": false
   },
   "outputs": [
    {
     "data": {
      "text/html": [
       "<ol class=list-inline>\n",
       "\t<li>'test'</li>\n",
       "\t<li>'writer'</li>\n",
       "</ol>\n"
      ],
      "text/latex": [
       "\\begin{enumerate*}\n",
       "\\item 'test'\n",
       "\\item 'writer'\n",
       "\\end{enumerate*}\n"
      ],
      "text/markdown": [
       "1. 'test'\n",
       "2. 'writer'\n",
       "\n",
       "\n"
      ],
      "text/plain": [
       "[1] \"test\"   \"writer\""
      ]
     },
     "execution_count": 6,
     "metadata": {},
     "output_type": "execute_result"
    }
   ],
   "source": [
    "dbListTables(mydb)"
   ]
  },
  {
   "cell_type": "code",
   "execution_count": 7,
   "metadata": {
    "collapsed": true
   },
   "outputs": [],
   "source": [
    "rs = dbSendQuery(mydb, \"select * from writer\")\n",
    "data = fetch(rs, n=-1)"
   ]
  },
  {
   "cell_type": "code",
   "execution_count": 10,
   "metadata": {
    "collapsed": false
   },
   "outputs": [
    {
     "data": {
      "text/html": [
       "<table>\n",
       "<thead><tr><th></th><th scope=col>first_name</th><th scope=col>last_name</th><th scope=col>year_of_death</th></tr></thead>\n",
       "<tbody>\n",
       "\t<tr><th scope=row>1</th><td>Bertold</td><td>Brecht</td><td>1956-01-01 00:00:00</td></tr>\n",
       "\t<tr><th scope=row>2</th><td>William</td><td>Shakespeare</td><td>1616-01-01 00:00:00</td></tr>\n",
       "</tbody>\n",
       "</table>\n"
      ],
      "text/latex": [
       "\\begin{tabular}{r|lll}\n",
       "  & first_name & last_name & year_of_death\\\\\n",
       "\\hline\n",
       "\t1 & Bertold & Brecht & 1956-01-01 00:00:00\\\\\n",
       "\t2 & William & Shakespeare & 1616-01-01 00:00:00\\\\\n",
       "\\end{tabular}\n"
      ],
      "text/plain": [
       "  first_name   last_name       year_of_death\n",
       "1    Bertold      Brecht 1956-01-01 00:00:00\n",
       "2    William Shakespeare 1616-01-01 00:00:00"
      ]
     },
     "execution_count": 10,
     "metadata": {},
     "output_type": "execute_result"
    }
   ],
   "source": [
    "data"
   ]
  },
  {
   "cell_type": "markdown",
   "metadata": {},
   "source": [
    "# Insert some data"
   ]
  },
  {
   "cell_type": "code",
   "execution_count": 15,
   "metadata": {
    "collapsed": false
   },
   "outputs": [],
   "source": [
    "pp_data<-read.csv(\"https://vincentarelbundock.github.io/Rdatasets/csv/datasets/AirPassengers.csv\", nrow = 10)"
   ]
  },
  {
   "cell_type": "code",
   "execution_count": 16,
   "metadata": {
    "collapsed": false
   },
   "outputs": [
    {
     "data": {
      "text/html": [
       "<table>\n",
       "<thead><tr><th></th><th scope=col>X</th><th scope=col>time</th><th scope=col>AirPassengers</th></tr></thead>\n",
       "<tbody>\n",
       "\t<tr><th scope=row>1</th><td>1</td><td>1949</td><td>112</td></tr>\n",
       "\t<tr><th scope=row>2</th><td>2</td><td>1949.083</td><td>118</td></tr>\n",
       "\t<tr><th scope=row>3</th><td>3</td><td>1949.167</td><td>132</td></tr>\n",
       "\t<tr><th scope=row>4</th><td>4</td><td>1949.25</td><td>129</td></tr>\n",
       "\t<tr><th scope=row>5</th><td>5</td><td>1949.333</td><td>121</td></tr>\n",
       "\t<tr><th scope=row>6</th><td>6</td><td>1949.417</td><td>135</td></tr>\n",
       "\t<tr><th scope=row>7</th><td>7</td><td>1949.5</td><td>148</td></tr>\n",
       "\t<tr><th scope=row>8</th><td>8</td><td>1949.583</td><td>148</td></tr>\n",
       "\t<tr><th scope=row>9</th><td>9</td><td>1949.667</td><td>136</td></tr>\n",
       "\t<tr><th scope=row>10</th><td>10</td><td>1949.75</td><td>119</td></tr>\n",
       "</tbody>\n",
       "</table>\n"
      ],
      "text/latex": [
       "\\begin{tabular}{r|lll}\n",
       "  & X & time & AirPassengers\\\\\n",
       "\\hline\n",
       "\t1 & 1 & 1949 & 112\\\\\n",
       "\t2 & 2 & 1949.083 & 118\\\\\n",
       "\t3 & 3 & 1949.167 & 132\\\\\n",
       "\t4 & 4 & 1949.25 & 129\\\\\n",
       "\t5 & 5 & 1949.333 & 121\\\\\n",
       "\t6 & 6 & 1949.417 & 135\\\\\n",
       "\t7 & 7 & 1949.5 & 148\\\\\n",
       "\t8 & 8 & 1949.583 & 148\\\\\n",
       "\t9 & 9 & 1949.667 & 136\\\\\n",
       "\t10 & 10 & 1949.75 & 119\\\\\n",
       "\\end{tabular}\n"
      ],
      "text/plain": [
       "    X     time AirPassengers\n",
       "1   1 1949.000           112\n",
       "2   2 1949.083           118\n",
       "3   3 1949.167           132\n",
       "4   4 1949.250           129\n",
       "5   5 1949.333           121\n",
       "6   6 1949.417           135\n",
       "7   7 1949.500           148\n",
       "8   8 1949.583           148\n",
       "9   9 1949.667           136\n",
       "10 10 1949.750           119"
      ]
     },
     "execution_count": 16,
     "metadata": {},
     "output_type": "execute_result"
    }
   ],
   "source": [
    "pp_data"
   ]
  },
  {
   "cell_type": "code",
   "execution_count": 17,
   "metadata": {
    "collapsed": false
   },
   "outputs": [
    {
     "data": {
      "text/html": [
       "TRUE"
      ],
      "text/latex": [
       "TRUE"
      ],
      "text/markdown": [
       "TRUE"
      ],
      "text/plain": [
       "[1] TRUE"
      ]
     },
     "execution_count": 17,
     "metadata": {},
     "output_type": "execute_result"
    }
   ],
   "source": [
    "dbWriteTable(mydb, name='pp_data', value=pp_data)"
   ]
  },
  {
   "cell_type": "markdown",
   "metadata": {},
   "source": [
    "#MongoDB"
   ]
  },
  {
   "cell_type": "code",
   "execution_count": 18,
   "metadata": {
    "collapsed": true
   },
   "outputs": [],
   "source": [
    "library(rmongodb)"
   ]
  },
  {
   "cell_type": "code",
   "execution_count": 19,
   "metadata": {
    "collapsed": false
   },
   "outputs": [
    {
     "data": {
      "text/html": [
       "TRUE"
      ],
      "text/latex": [
       "TRUE"
      ],
      "text/markdown": [
       "TRUE"
      ],
      "text/plain": [
       "[1] TRUE"
      ]
     },
     "execution_count": 19,
     "metadata": {},
     "output_type": "execute_result"
    }
   ],
   "source": [
    "m <- mongo.create()\n",
    "ns <- \"database.collection\"\n",
    "mongo.is.connected(m)"
   ]
  },
  {
   "cell_type": "code",
   "execution_count": 21,
   "metadata": {
    "collapsed": true
   },
   "outputs": [],
   "source": [
    "list <- list(a=2, b=3, c=list(d=4, e=5))"
   ]
  },
  {
   "cell_type": "code",
   "execution_count": 22,
   "metadata": {
    "collapsed": true
   },
   "outputs": [],
   "source": [
    "bson <- mongo.bson.from.list(list)"
   ]
  },
  {
   "cell_type": "code",
   "execution_count": 23,
   "metadata": {
    "collapsed": false
   },
   "outputs": [
    {
     "data": {
      "text/html": [
       "TRUE"
      ],
      "text/latex": [
       "TRUE"
      ],
      "text/markdown": [
       "TRUE"
      ],
      "text/plain": [
       "[1] TRUE"
      ]
     },
     "execution_count": 23,
     "metadata": {},
     "output_type": "execute_result"
    }
   ],
   "source": [
    "mongo.insert(m, ns, bson)"
   ]
  },
  {
   "cell_type": "code",
   "execution_count": null,
   "metadata": {
    "collapsed": true
   },
   "outputs": [],
   "source": []
  }
 ],
 "metadata": {
  "kernelspec": {
   "display_name": "R",
   "language": "R",
   "name": "ir"
  },
  "language_info": {
   "codemirror_mode": "r",
   "file_extension": ".r",
   "mimetype": "text/x-r-source",
   "name": "R",
   "pygments_lexer": "r",
   "version": "3.2.1"
  }
 },
 "nbformat": 4,
 "nbformat_minor": 0
}
